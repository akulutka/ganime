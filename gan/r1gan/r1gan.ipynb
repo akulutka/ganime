{
 "cells": [
  {
   "cell_type": "code",
   "execution_count": null,
   "source": [
    "import matplotlib.pyplot as plt\r\n",
    "import torch\r\n",
    "import torch.nn as nn\r\n",
    "import numpy as np"
   ],
   "outputs": [],
   "metadata": {}
  },
  {
   "cell_type": "code",
   "execution_count": null,
   "source": [
    "class ResidualBlock(nn.Module):\r\n",
    "    def __init__(self, inplanes, planes, kernel_size=3, stride=1, downsample=None, groups=1):\r\n",
    "        super(ResidualBlock, self).__init__()\r\n",
    "        p = kernel_size//2\r\n",
    "        self.conv1 = nn.Sequential(\r\n",
    "            nn.Conv2d(inplanes, planes, kernel_size, stride=stride, padding=p),\r\n",
    "            nn.LeakyReLU(0.2)\r\n",
    "        )\r\n",
    "        self.conv2 = nn.Sequential(\r\n",
    "            nn.Conv2d(planes, planes, kernel_size, padding=p),\r\n",
    "            nn.LeakyReLU(0.2)\r\n",
    "        )\r\n",
    "        self.proj = nn.Conv2d(inplanes, planes, 1) if inplanes != planes else None\r\n",
    "    \r\n",
    "    def forward(self, x):\r\n",
    "        identity = x\r\n",
    "        \r\n",
    "        y = self.conv1(x)\r\n",
    "        y = self.conv2(y)\r\n",
    "        \r\n",
    "        identity = identity if self.proj is None else self.proj(identity)\r\n",
    "        y = y + identity\r\n",
    "        return y"
   ],
   "outputs": [],
   "metadata": {}
  },
  {
   "cell_type": "code",
   "execution_count": null,
   "source": [
    "class Generator(nn.Module):\r\n",
    "    \"\"\"\r\n",
    "        Convolutional Generator\r\n",
    "    \"\"\"\r\n",
    "    def __init__(self, out_channel=1, n_filters=128, n_noise=512):\r\n",
    "        super(Generator, self).__init__()\r\n",
    "        self.fc = nn.Linear(n_noise, 1024*4*4)\r\n",
    "        self.G = nn.Sequential(\r\n",
    "            ResidualBlock(1024, 512),\r\n",
    "            nn.Upsample(scale_factor=2, mode='bilinear', align_corners=True), # (N, 512, 8, 8)\r\n",
    "            ResidualBlock(512, 256),\r\n",
    "            nn.Upsample(scale_factor=2, mode='bilinear', align_corners=True), # (N, 256, 16, 16)\r\n",
    "            ResidualBlock(256, 128),\r\n",
    "            nn.Upsample(scale_factor=2, mode='bilinear', align_corners=True), # (N, 128, 32, 32)\r\n",
    "            ResidualBlock(128, 64),\r\n",
    "            nn.Upsample(scale_factor=2, mode='bilinear', align_corners=True), # (N, 64, 64, 64)\r\n",
    "            ResidualBlock(64, 64),\r\n",
    "            nn.Conv2d(64, out_channel, 3, padding=1) # (N, 3, 64, 64)\r\n",
    "        )\r\n",
    "        \r\n",
    "    def forward(self, z):\r\n",
    "        B = z.size(0)\r\n",
    "        h = self.fc(z)\r\n",
    "        h = h.view(B, 1024, 4, 4)\r\n",
    "        x = self.G(h)\r\n",
    "        return x"
   ],
   "outputs": [],
   "metadata": {}
  },
  {
   "cell_type": "code",
   "execution_count": null,
   "source": [
    "DEVICE = torch.device(\"cuda\" if torch.cuda.is_available() else \"cpu\")\r\n",
    "n_noise = 256"
   ],
   "outputs": [],
   "metadata": {}
  },
  {
   "cell_type": "code",
   "execution_count": null,
   "source": [
    "G = Generator(out_channel=3, n_noise=n_noise).to(DEVICE)\r\n",
    "G.load_state_dict(torch.load('./state_dicts/r1gan_aniG.w'))\r\n",
    "G.eval()"
   ],
   "outputs": [],
   "metadata": {}
  },
  {
   "cell_type": "code",
   "execution_count": null,
   "source": [
    "def tensor2img(tensor):\r\n",
    "    img = (np.transpose(tensor.detach().cpu().numpy(), [1,2,0])+1)/2.\r\n",
    "    return img"
   ],
   "outputs": [],
   "metadata": {}
  },
  {
   "cell_type": "code",
   "execution_count": null,
   "source": [
    "def get_sample_image(G, n_noise=100, n_samples=64):\r\n",
    "    n_rows = int(np.sqrt(n_samples))\r\n",
    "    z = (torch.rand(size=[n_samples, n_noise])*2-1).to(DEVICE) # U[-1, 1]\r\n",
    "    x_fake = G(z)\r\n",
    "    x_fake = torch.cat([torch.cat([x_fake[n_rows*j+i] for i in range(n_rows)], dim=1) for j in range(n_rows)], dim=2)\r\n",
    "    result = tensor2img(x_fake)\r\n",
    "    return result"
   ],
   "outputs": [],
   "metadata": {}
  },
  {
   "cell_type": "code",
   "execution_count": null,
   "source": [
    "img = get_sample_image(G, n_noise, n_samples=64)\r\n",
    "plt.figure(figsize=(10, 10))\r\n",
    "plt.imshow(img)"
   ],
   "outputs": [],
   "metadata": {}
  }
 ],
 "metadata": {
  "orig_nbformat": 4,
  "language_info": {
   "name": "python"
  }
 },
 "nbformat": 4,
 "nbformat_minor": 2
}