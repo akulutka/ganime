{
 "cells": [
  {
   "cell_type": "code",
   "execution_count": null,
   "source": [
    "import matplotlib.pyplot as plt\r\n",
    "import torch\r\n",
    "import torch.nn as nn"
   ],
   "outputs": [],
   "metadata": {}
  },
  {
   "cell_type": "code",
   "execution_count": null,
   "source": [
    "# Spatial size of training images. All images will be resized to this\r\n",
    "#   size using a transformer.\r\n",
    "image_size = pic_width = 64\r\n",
    "\r\n",
    "# Number of channels in the training images. For color images this is 3\r\n",
    "nc = 3\r\n",
    "\r\n",
    "# Size of z latent vector (i.e. size of generator input)\r\n",
    "nz = 100\r\n",
    "\r\n",
    "# Size of feature maps in generator\r\n",
    "ngf = 64\r\n",
    "\r\n",
    "# Size of feature maps in discriminator\r\n",
    "ndf = 64\r\n",
    "\r\n",
    "device = torch.device('cuda' if (torch.cuda.is_available() and ngpu > 0) else 'cpu')\r\n",
    "# No. of GPU\r\n",
    "ngpu = 1"
   ],
   "outputs": [],
   "metadata": {}
  },
  {
   "cell_type": "code",
   "execution_count": null,
   "source": [
    "class Generator(nn.Module):\r\n",
    "    def __init__(self, ngpu):\r\n",
    "        super(Generator, self).__init__()\r\n",
    "        self.ngpu = ngpu\r\n",
    "        self.main = nn.Sequential(\r\n",
    "            # input is Z, going into a convolution\r\n",
    "            nn.ConvTranspose2d( nz, ngf * 8, 4, 1, 0, bias=False),\r\n",
    "            nn.BatchNorm2d(ngf * 8),\r\n",
    "            nn.ReLU(True),\r\n",
    "            # state size. (ngf*8) x 4 x 4\r\n",
    "            nn.ConvTranspose2d(ngf * 8, ngf * 4, 4, 2, 1, bias=False),\r\n",
    "            nn.BatchNorm2d(ngf * 4),\r\n",
    "            nn.ReLU(True),\r\n",
    "            # state size. (ngf*4) x 8 x 8\r\n",
    "            nn.ConvTranspose2d( ngf * 4, ngf * 2, 4, 2, 1, bias=False),\r\n",
    "            nn.BatchNorm2d(ngf * 2),\r\n",
    "            nn.ReLU(True),\r\n",
    "            # state size. (ngf*2) x 16 x 16\r\n",
    "            nn.ConvTranspose2d( ngf * 2, ngf, 4, 2, 1, bias=False),\r\n",
    "            nn.BatchNorm2d(ngf),\r\n",
    "            nn.ReLU(True),\r\n",
    "            # state size. (ngf) x 32 x 32\r\n",
    "            nn.ConvTranspose2d( ngf, nc, 4, 2, 1, bias=False),\r\n",
    "            nn.Tanh()\r\n",
    "            # state size. (nc) x 64 x 64\r\n",
    "        )\r\n",
    "\r\n",
    "    def forward(self, input):\r\n",
    "        if input.is_cuda and self.ngpu > 1:\r\n",
    "            output = nn.parallel.data_parallel(self.main, input, range(self.ngpu))\r\n",
    "        else:\r\n",
    "            output = self.main(input)\r\n",
    "        return output"
   ],
   "outputs": [],
   "metadata": {}
  },
  {
   "cell_type": "code",
   "execution_count": null,
   "source": [
    "netG = Generator(ngpu).to(device)\r\n",
    "if (device.type == 'cuda') and (ngpu > 1):\r\n",
    "    netG = nn.DataParallel(netG, list(range(ngpu)))\r\n",
    "print(netG)\r\n",
    "netG.load_state_dict(torch.load('./state_dicts/dcgan_aniG.w'))\r\n",
    "netG.eval()\r\n",
    "plt.figure(figsize=(10, 10))\r\n",
    "plt.imshow(netG(torch.randn(64, nz, 1, 1, device=device)).detach().cpu()[0].permute(1, 2, 0))\r\n",
    "plt.show()"
   ],
   "outputs": [],
   "metadata": {}
  }
 ],
 "metadata": {
  "orig_nbformat": 4,
  "language_info": {
   "name": "python",
   "version": "3.7.4",
   "mimetype": "text/x-python",
   "codemirror_mode": {
    "name": "ipython",
    "version": 3
   },
   "pygments_lexer": "ipython3",
   "nbconvert_exporter": "python",
   "file_extension": ".py"
  },
  "kernelspec": {
   "name": "python3",
   "display_name": "Python 3.7.4 32-bit"
  },
  "interpreter": {
   "hash": "2e64f53f1ec9fa7eee213461c22910f7b18832a4e98ace454e11465f1666eb78"
  }
 },
 "nbformat": 4,
 "nbformat_minor": 2
}